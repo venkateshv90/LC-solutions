{
 "cells": [
  {
   "cell_type": "markdown",
   "id": "c6815643",
   "metadata": {},
   "source": [
    "# Solutions to selected Leetcode Problems"
   ]
  },
  {
   "cell_type": "markdown",
   "id": "a79b87e2",
   "metadata": {},
   "source": [
    "**14. Longest Common Prefix**\n",
    "\n",
    "Write a function to find the longest common prefix string amongst an array of strings.\n",
    "\n",
    "If there is no common prefix, return an empty string \"\".\n",
    "\n",
    "**Example 1:**\n",
    "\n",
    "Input: strs = [\"flower\",\"flow\",\"flight\"]  \n",
    "Output: \"fl\"  \n",
    "\n",
    "**Example 2:**\n",
    "\n",
    "Input: strs = [\"dog\",\"racecar\",\"car\"]  \n",
    "Output: \"\"  \n",
    "Explanation: There is no common prefix among the input strings."
   ]
  },
  {
   "cell_type": "code",
   "execution_count": 1,
   "id": "751a6176",
   "metadata": {},
   "outputs": [],
   "source": [
    "# Intuition: The common prefix - if exists, can be utmost the length of the shortest word in the list.\n",
    "# TC: 12 ms, beats 85.27% of total submissions\n",
    "# SC: 13.24 MB, beats 5% of total submissions\n",
    "\n",
    "def longestCommonPrefix(s):\n",
    "    \n",
    "    new_list=sorted(s,key=len)\n",
    "    short_word=new_list[0]\n",
    "    len_short_word=len(short_word)\n",
    "    right=0\n",
    "    comm_prefix=''\n",
    "    \n",
    "    \n",
    "    #print(len_short_word)\n",
    "    \n",
    "    while right<=len_short_word:\n",
    "        for item in s:\n",
    "            if item[:right]==short_word[:right]:\n",
    "                flag=True\n",
    "            else:\n",
    "                flag=False\n",
    "                break\n",
    "        if flag:\n",
    "            comm_prefix=short_word[:right]\n",
    "            right+=1\n",
    "        else:\n",
    "            break\n",
    "            \n",
    "    return comm_prefix"
   ]
  },
  {
   "cell_type": "code",
   "execution_count": null,
   "id": "b29ceada",
   "metadata": {},
   "outputs": [],
   "source": []
  }
 ],
 "metadata": {
  "kernelspec": {
   "display_name": "Python 3",
   "language": "python",
   "name": "python3"
  },
  "language_info": {
   "codemirror_mode": {
    "name": "ipython",
    "version": 3
   },
   "file_extension": ".py",
   "mimetype": "text/x-python",
   "name": "python",
   "nbconvert_exporter": "python",
   "pygments_lexer": "ipython3",
   "version": "3.8.8"
  }
 },
 "nbformat": 4,
 "nbformat_minor": 5
}
